{
 "cells": [
  {
   "cell_type": "markdown",
   "metadata": {},
   "source": [
    "# Stellargraph example: Load CORA via NetworkX"
   ]
  },
  {
   "cell_type": "markdown",
   "metadata": {},
   "source": [
    "Import NetworkX and stellar:"
   ]
  },
  {
   "cell_type": "code",
   "execution_count": 1,
   "metadata": {},
   "outputs": [],
   "source": [
    "import networkx as nx\n",
    "import pandas as pd\n",
    "import numpy as np\n",
    "import os\n",
    "\n",
    "import stellargraph as sg"
   ]
  },
  {
   "cell_type": "markdown",
   "metadata": {},
   "source": [
    "Load the CORA network:"
   ]
  },
  {
   "cell_type": "code",
   "execution_count": 2,
   "metadata": {},
   "outputs": [],
   "source": [
    "data_dir = os.path.expanduser(\"~/data/cora\")"
   ]
  },
  {
   "cell_type": "code",
   "execution_count": 3,
   "metadata": {},
   "outputs": [],
   "source": [
    "edgelist = pd.read_csv(os.path.join(data_dir, \"cora.cites\"), sep='\\t', header=None, names=[\"target\", \"source\"])\n",
    "edgelist[\"label\"] = \"cites\""
   ]
  },
  {
   "cell_type": "code",
   "execution_count": 4,
   "metadata": {},
   "outputs": [],
   "source": [
    "feature_names = [\"w_{}\".format(ii) for ii in range(1433)]\n",
    "column_names =  feature_names + [\"subject\"]\n",
    "node_data = pd.read_csv(os.path.join(data_dir, \"cora.content\"), sep='\\t', header=None, names=column_names)"
   ]
  },
  {
   "cell_type": "markdown",
   "metadata": {},
   "source": [
    "Create a StellarGraph object via a NetworkX graph of the data:"
   ]
  },
  {
   "cell_type": "code",
   "execution_count": 5,
   "metadata": {},
   "outputs": [],
   "source": [
    "def create_stellargraph_nx(edge_data, node_data, feature_names):\n",
    "    Gnx = nx.from_pandas_edgelist(edge_data, edge_attr=\"label\")\n",
    "    nx.set_node_attributes(Gnx, \"paper\", \"label\")\n",
    "    node_features = node_data[feature_names]\n",
    "    G = sg.StellarGraph(Gnx, node_features=node_features)\n",
    "    return G"
   ]
  },
  {
   "cell_type": "markdown",
   "metadata": {},
   "source": [
    "Time the creation of NetworkX-based StellarGraph object:"
   ]
  },
  {
   "cell_type": "code",
   "execution_count": 6,
   "metadata": {
    "scrolled": true
   },
   "outputs": [
    {
     "name": "stdout",
     "output_type": "stream",
     "text": [
      "77.3 ms ± 363 µs per loop (mean ± std. dev. of 7 runs, 10 loops each)\n"
     ]
    }
   ],
   "source": [
    "%timeit create_stellargraph_nx(edgelist, node_data, feature_names)"
   ]
  },
  {
   "cell_type": "code",
   "execution_count": 7,
   "metadata": {},
   "outputs": [],
   "source": [
    "G_nx = create_stellargraph_nx(edgelist, node_data, feature_names)"
   ]
  },
  {
   "cell_type": "markdown",
   "metadata": {},
   "source": [
    "Time the sampling of node features:"
   ]
  },
  {
   "cell_type": "code",
   "execution_count": 8,
   "metadata": {},
   "outputs": [],
   "source": [
    "Nsamp = 500\n",
    "Nloop = 10"
   ]
  },
  {
   "cell_type": "code",
   "execution_count": 9,
   "metadata": {},
   "outputs": [],
   "source": [
    "def sample_features_stellargraph_nx(graph, nodes):\n",
    "    if nodes is None:\n",
    "        nodes = graph.nodes()\n",
    "    if not isinstance(nodes, list):\n",
    "        nodes = list(nodes)\n",
    "    sample_ids = np.random.choice(nodes, Nsamp, replace=False)\n",
    "    for n in range(Nloop):\n",
    "        batch = graph.get_feature_for_nodes(sample_ids)"
   ]
  },
  {
   "cell_type": "code",
   "execution_count": 10,
   "metadata": {},
   "outputs": [
    {
     "name": "stdout",
     "output_type": "stream",
     "text": [
      "97.5 ms ± 1.17 ms per loop (mean ± std. dev. of 7 runs, 10 loops each)\n"
     ]
    }
   ],
   "source": [
    "%timeit sample_features_stellargraph_nx(G_nx, G_nx.nodes())"
   ]
  },
  {
   "cell_type": "markdown",
   "metadata": {},
   "source": [
    "Now time the querying of node neighbours:"
   ]
  },
  {
   "cell_type": "code",
   "execution_count": 11,
   "metadata": {},
   "outputs": [],
   "source": [
    "def sample_neighbours_stellargraph_nx(graph, nodes):\n",
    "    if nodes is None:\n",
    "        nodes = graph.nodes()\n",
    "    for n in range(Nloop):\n",
    "        for node_id in nodes:\n",
    "            neighbours = graph.neighbors(node_id)"
   ]
  },
  {
   "cell_type": "code",
   "execution_count": 12,
   "metadata": {},
   "outputs": [
    {
     "name": "stdout",
     "output_type": "stream",
     "text": [
      "6.25 ms ± 121 µs per loop (mean ± std. dev. of 7 runs, 100 loops each)\n"
     ]
    }
   ],
   "source": [
    "%timeit sample_neighbours_stellargraph_nx(G_nx, G_nx.nodes())"
   ]
  },
  {
   "cell_type": "markdown",
   "metadata": {},
   "source": [
    "And again with converting the raw NetworkX neighbours to a usable list:"
   ]
  },
  {
   "cell_type": "code",
   "execution_count": 13,
   "metadata": {},
   "outputs": [],
   "source": [
    "def sample_neighbours_list_stellargraph_nx(graph, nodes):\n",
    "    if nodes is None:\n",
    "        nodes = graph.nodes()\n",
    "    for n in range(Nloop):\n",
    "        for node_id in nodes:\n",
    "            neighbours = list(graph.neighbors(node_id))"
   ]
  },
  {
   "cell_type": "code",
   "execution_count": 14,
   "metadata": {},
   "outputs": [
    {
     "name": "stdout",
     "output_type": "stream",
     "text": [
      "12.4 ms ± 67.5 µs per loop (mean ± std. dev. of 7 runs, 100 loops each)\n"
     ]
    }
   ],
   "source": [
    "%timeit sample_neighbours_list_stellargraph_nx(G_nx, G_nx.nodes())"
   ]
  },
  {
   "cell_type": "markdown",
   "metadata": {},
   "source": [
    "Now time feature sampling of neighbours:"
   ]
  },
  {
   "cell_type": "code",
   "execution_count": 15,
   "metadata": {},
   "outputs": [],
   "source": [
    "def sample_neighbour_features_stellargraph_nx(graph, nodes):\n",
    "    if nodes is None:\n",
    "        nodes = graph.nodes()\n",
    "    if not isinstance(nodes, list):\n",
    "        nodes = list(nodes)\n",
    "    sample_ids = np.random.choice(nodes, Nsamp, replace=False)\n",
    "    for n in range(Nloop):\n",
    "        for node_id in sample_ids:\n",
    "            neighbours = list(graph.neighbors(node_id))\n",
    "            batch = graph.get_feature_for_nodes(neighbours)"
   ]
  },
  {
   "cell_type": "code",
   "execution_count": 16,
   "metadata": {},
   "outputs": [
    {
     "name": "stdout",
     "output_type": "stream",
     "text": [
      "387 ms ± 10.1 ms per loop (mean ± std. dev. of 7 runs, 1 loop each)\n"
     ]
    }
   ],
   "source": [
    "%timeit sample_neighbour_features_stellargraph_nx(G_nx, G_nx.nodes())"
   ]
  },
  {
   "cell_type": "markdown",
   "metadata": {},
   "source": [
    "Now look at the new homogeneous StellarGraph:"
   ]
  },
  {
   "cell_type": "code",
   "execution_count": 17,
   "metadata": {},
   "outputs": [],
   "source": [
    "from stellargraph.core.graph_homogeneous import HomogeneousStellarGraph"
   ]
  },
  {
   "cell_type": "code",
   "execution_count": 18,
   "metadata": {},
   "outputs": [],
   "source": [
    "def create_stellargraph_h(edge_data, node_data, feature_names):\n",
    "    G = HomogeneousStellarGraph(edge_data, node_data, node_features=feature_names)\n",
    "    return G"
   ]
  },
  {
   "cell_type": "markdown",
   "metadata": {},
   "source": [
    "Time the creation of homogeneous StellarGraph object:"
   ]
  },
  {
   "cell_type": "code",
   "execution_count": 19,
   "metadata": {
    "scrolled": true
   },
   "outputs": [
    {
     "name": "stdout",
     "output_type": "stream",
     "text": [
      "28.6 ms ± 278 µs per loop (mean ± std. dev. of 7 runs, 10 loops each)\n"
     ]
    }
   ],
   "source": [
    "%timeit create_stellargraph_h(edgelist, node_data, feature_names)"
   ]
  },
  {
   "cell_type": "code",
   "execution_count": 20,
   "metadata": {},
   "outputs": [],
   "source": [
    "G_h = create_stellargraph_h(edgelist, node_data, feature_names)"
   ]
  },
  {
   "cell_type": "markdown",
   "metadata": {},
   "source": [
    "Time the sampling of node features:"
   ]
  },
  {
   "cell_type": "code",
   "execution_count": 21,
   "metadata": {},
   "outputs": [],
   "source": [
    "def sample_features_stellargraph_h(graph, nodes):\n",
    "    if nodes is None:\n",
    "        nodes = graph.nodes()\n",
    "    if not isinstance(nodes, list):\n",
    "        nodes = list(nodes)\n",
    "    sample_ids = np.random.choice(nodes, Nsamp, replace=False)\n",
    "    for n in range(Nloop):\n",
    "        batch = graph.node_features(sample_ids)"
   ]
  },
  {
   "cell_type": "code",
   "execution_count": 22,
   "metadata": {
    "scrolled": true
   },
   "outputs": [
    {
     "name": "stdout",
     "output_type": "stream",
     "text": [
      "86.6 ms ± 477 µs per loop (mean ± std. dev. of 7 runs, 10 loops each)\n"
     ]
    }
   ],
   "source": [
    "%timeit sample_features_stellargraph_h(G_h, G_h.nodes())"
   ]
  },
  {
   "cell_type": "markdown",
   "metadata": {},
   "source": [
    "Time querying of node neighbourhoods:"
   ]
  },
  {
   "cell_type": "code",
   "execution_count": 23,
   "metadata": {},
   "outputs": [],
   "source": [
    "def sample_neighbours_stellargraph_h(graph, nodes):\n",
    "    if nodes is None:\n",
    "        nodes = graph.nodes()\n",
    "    for n in range(Nloop):\n",
    "        for node_id in nodes:\n",
    "            neighbours = graph.neighbour_nodes(node_id)"
   ]
  },
  {
   "cell_type": "code",
   "execution_count": 24,
   "metadata": {},
   "outputs": [
    {
     "name": "stdout",
     "output_type": "stream",
     "text": [
      "20.5 ms ± 648 µs per loop (mean ± std. dev. of 7 runs, 10 loops each)\n"
     ]
    }
   ],
   "source": [
    "%timeit sample_neighbours_stellargraph_h(G_h, G_h.nodes())"
   ]
  },
  {
   "cell_type": "markdown",
   "metadata": {},
   "source": [
    "Now time feature sampling of neighbours:"
   ]
  },
  {
   "cell_type": "code",
   "execution_count": 25,
   "metadata": {},
   "outputs": [],
   "source": [
    "def sample_neighbour_features_stellargraph_h(graph, nodes):\n",
    "    if nodes is None:\n",
    "        nodes = graph.nodes()\n",
    "    if not isinstance(nodes, list):\n",
    "        nodes = list(nodes)\n",
    "    sample_ids = np.random.choice(nodes, Nsamp, replace=False)\n",
    "    for n in range(Nloop):\n",
    "        for node_id in sample_ids:\n",
    "            neighbours = graph.neighbour_nodes(node_id)\n",
    "            batch = graph.node_features(neighbours)"
   ]
  },
  {
   "cell_type": "code",
   "execution_count": 26,
   "metadata": {},
   "outputs": [
    {
     "name": "stdout",
     "output_type": "stream",
     "text": [
      "353 ms ± 22.2 ms per loop (mean ± std. dev. of 7 runs, 1 loop each)\n"
     ]
    }
   ],
   "source": [
    "%timeit sample_neighbour_features_stellargraph_h(G_h, G_h.nodes())"
   ]
  }
 ],
 "metadata": {
  "kernelspec": {
   "display_name": "Python 3",
   "language": "python",
   "name": "python3"
  },
  "language_info": {
   "codemirror_mode": {
    "name": "ipython",
    "version": 3
   },
   "file_extension": ".py",
   "mimetype": "text/x-python",
   "name": "python",
   "nbconvert_exporter": "python",
   "pygments_lexer": "ipython3",
   "version": "3.6.8"
  }
 },
 "nbformat": 4,
 "nbformat_minor": 4
}
